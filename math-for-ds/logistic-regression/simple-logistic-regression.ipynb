{
 "cells": [
  {
   "cell_type": "markdown",
   "id": "c6bb1490",
   "metadata": {},
   "source": [
    "# Логистическая регрессия"
   ]
  },
  {
   "cell_type": "markdown",
   "id": "70f63306",
   "metadata": {},
   "source": [
    "Логистическая регрессия обучается на переменныой, которая является бинарной (1 или 0) или категориальной (целое число). Результат регрессии - непрерывная переменная в виде вероятности, но ее можно преобразовать в дискретную величину с помощью порогового значения."
   ]
  },
  {
   "cell_type": "markdown",
   "id": "bbd0f05e",
   "metadata": {},
   "source": [
    "### Логистическая функция"
   ]
  },
  {
   "attachments": {
    "image.png": {
     "image/png": "[encoded data removed]"
    }
   },
   "cell_type": "markdown",
   "id": "7fcebb58",
   "metadata": {},
   "source": [
    "**Логистическая функция** - это S-образная кривая (также известная как *сигмоида*), которая в зависимости от значений входных переменнных принимает значения между 0 и 1. Посколько выходная переменная лежит в интервале от 0 до 1, с ее помощью можно представлять вероятность.\n",
    "\n",
    "![image.png](attachment:image.png)\n",
    "\n",
    "где:\n",
    "    x - независимая переменная\n",
    "    B0 и B1 - коэффициенты регрессии, которые нужно найти.\n",
    "\n",
    "**B0** - ордината пересечения вышеупомянутой линейной функции с осью Y (коэффициент b в простой линейной регресии), **B1** - ее угловой коэффициент (то же, что m в простой линейной регресии)."
   ]
  },
  {
   "cell_type": "code",
   "execution_count": null,
   "id": "99e2e33e",
   "metadata": {},
   "outputs": [],
   "source": [
    "# Логистическая функция одного аргумента в Python\n",
    "import math\n",
    "\n",
    "def predict_probability(x, b0, b1):\n",
    "    p = 1.0 / (1.0 + math.exp(-(b0+ b1 * x)))"
   ]
  },
  {
   "cell_type": "code",
   "execution_count": 2,
   "id": "ef3724dc",
   "metadata": {},
   "outputs": [
    {
     "name": "stdout",
     "output_type": "stream",
     "text": [
      "1.0/(1.0 + 16.8272567955368*exp(-0.62*x))\n"
     ]
    },
    {
     "data": {
      "image/png": "[encoded data removed]",
      "text/plain": [
       "<Figure size 640x480 with 1 Axes>"
      ]
     },
     "metadata": {},
     "output_type": "display_data"
    },
    {
     "data": {
      "text/plain": [
       "<sympy.plotting.backends.matplotlibbackend.matplotlib.MatplotlibBackend at 0x13f73150590>"
      ]
     },
     "execution_count": 2,
     "metadata": {},
     "output_type": "execute_result"
    }
   ],
   "source": [
    "# Построение графика логистической функции с помощью Sympy\n",
    "from sympy import *\n",
    "b0, b1, x = symbols('b0 b1 x')\n",
    "\n",
    "p = 1.0 / (1.0 + exp(-(b0 + b1 * x)))\n",
    "\n",
    "p = p.subs(b0, -2.823)\n",
    "p = p.subs(b1, 0.620)\n",
    "print(p)\n",
    "\n",
    "plot(p)\n",
    "\n"
   ]
  },
  {
   "cell_type": "code",
   "execution_count": 3,
   "id": "8debaaae",
   "metadata": {},
   "outputs": [
    {
     "name": "stdout",
     "output_type": "stream",
     "text": [
      "0.692689386308558\n",
      "-3.1758050425633764\n"
     ]
    }
   ],
   "source": [
    "# Простая логистическая регрессия с помощью scikit-learn\n",
    "import pandas as pd\n",
    "from sklearn.linear_model import LogisticRegression\n",
    "\n",
    "df = pd.read_csv(\"https://bit.ly/33ebs2R\", delimiter=\",\")\n",
    "\n",
    "X = df.values[:, :-1]\n",
    "Y = df.values[:, -1]\n",
    "\n",
    "# Отключаем штраф (penalty)\n",
    "model = LogisticRegression(penalty=None)\n",
    "model.fit(X, Y)\n",
    "\n",
    "print(model.coef_.flatten()[0])\n",
    "print(model.intercept_.flatten()[0])\n",
    "\n"
   ]
  },
  {
   "cell_type": "code",
   "execution_count": 9,
   "id": "96202da7",
   "metadata": {},
   "outputs": [
    {
     "name": "stdout",
     "output_type": "stream",
     "text": [
      "0.6926693075370812 -3.175751550409821\n"
     ]
    }
   ],
   "source": [
    "# Градиентный спуск для логистической регрессии\n",
    "from sympy import *\n",
    "import pandas as pd\n",
    "\n",
    "points = list(pd.read_csv(\"https://tinyurl.com/y2cocoo7\").itertuples())\n",
    "\n",
    "b1, b0, i, n = symbols('b1 b0 i n')\n",
    "x, y = symbols('x y', cls=Function)\n",
    "\n",
    "joint_likelihood = Sum(log((1.0 / (1.0 + exp(-(b0 + b1 * x(i))))) ** y(i) \\\n",
    " * (1.0 - (1.0 / (1.0 + exp(-(b0 + b1 * x(i)))))) ** (1 - y(i))), (i, 0, n))\n",
    "\n",
    "d_b1 = diff(joint_likelihood, b1) \\\n",
    "    .subs(n, len(points) - 1).doit() \\\n",
    "    .replace(x, lambda i: points[i].x) \\\n",
    "    .replace(y, lambda i: points[i].y)\n",
    "\n",
    "d_b0 = (\n",
    "    diff(joint_likelihood, b0)\n",
    "    .subs(n, len(points) - 1).doit()\n",
    "    .replace(x, lambda i: points[i].x)\n",
    "    .replace(y, lambda i: points[i].y)\n",
    ")\n",
    "\n",
    "d_b1 = lambdify([b1, b0], d_b1)\n",
    "d_b0 = lambdify([b1, b0], d_b0)\n",
    "\n",
    "b1 = 0.01\n",
    "b0 = 0.01\n",
    "L = 0.01\n",
    "\n",
    "for j in range(10_000):\n",
    "    b1 += d_b1(b1, b0) * L\n",
    "    b0 += d_b0(b1, b0) * L\n",
    "\n",
    "print(b1, b0)\n"
   ]
  },
  {
   "cell_type": "markdown",
   "id": "4f7246c5",
   "metadata": {},
   "source": [
    "### Многомерная регрессия"
   ]
  },
  {
   "cell_type": "markdown",
   "id": "cd377474",
   "metadata": {},
   "source": [
    "**Пример:** Дано 54 записи из вымышленного набора данных о занятости сотрудников и текучести кадров.\n",
    "\n",
    "Мы хотим:\n",
    "\n",
    "    **Спрогнозировать, собираются ли увольняться другие сотрудники?**"
   ]
  },
  {
   "cell_type": "code",
   "execution_count": 19,
   "id": "1b207d5e",
   "metadata": {},
   "outputs": [
    {
     "name": "stdout",
     "output_type": "stream",
     "text": [
      "Угловые коэффициенты: [ 0.03216405  0.03683014 -2.50414075  0.97423186]\n",
      "Пересечение: [-2.73503136]\n",
      "Останется: [[9.99973769e-01 2.62309417e-05]]\n"
     ]
    },
    {
     "ename": "ValueError",
     "evalue": "not enough values to unpack (expected 4, got 1)",
     "output_type": "error",
     "traceback": [
      "\u001b[1;31m---------------------------------------------------------------------------\u001b[0m",
      "\u001b[1;31mValueError\u001b[0m                                Traceback (most recent call last)",
      "Cell \u001b[1;32mIn[19], line 30\u001b[0m\n\u001b[0;32m     26\u001b[0m \u001b[38;5;28;01mwhile\u001b[39;00m \u001b[38;5;28;01mTrue\u001b[39;00m:\n\u001b[0;32m     27\u001b[0m     n \u001b[38;5;241m=\u001b[39m \u001b[38;5;28minput\u001b[39m(\u001b[38;5;124m\"\u001b[39m\u001b[38;5;124mПрогнозируем, останется ли сотрудник или уйдет.\u001b[39m\u001b[38;5;130;01m\\n\u001b[39;00m\u001b[38;5;124m\"\u001b[39m \\\n\u001b[0;32m     28\u001b[0m     \u001b[38;5;124m\"\u001b[39m\u001b[38;5;124mВведите данные (целые неотрицательные числа) через запятую:\u001b[39m\u001b[38;5;130;01m\\n\u001b[39;00m\u001b[38;5;124m\"\u001b[39m \\\n\u001b[0;32m     29\u001b[0m     \u001b[38;5;124m\"\u001b[39m\u001b[38;5;124mпол, возраст, количество повышений, стаж работы (лет): \u001b[39m\u001b[38;5;124m\"\u001b[39m)\n\u001b[1;32m---> 30\u001b[0m     (sex, age, promotions, years_employed) \u001b[38;5;241m=\u001b[39m n\u001b[38;5;241m.\u001b[39msplit(\u001b[38;5;124m\"\u001b[39m\u001b[38;5;124m,\u001b[39m\u001b[38;5;124m\"\u001b[39m)\n\u001b[0;32m     31\u001b[0m     \u001b[38;5;28mprint\u001b[39m(predict_employee_will_stay(\u001b[38;5;28mint\u001b[39m(sex), \u001b[38;5;28mint\u001b[39m(age), \u001b[38;5;28mint\u001b[39m(promotions), \u001b[38;5;28mint\u001b[39m(years_employed)))\n",
      "\u001b[1;31mValueError\u001b[0m: not enough values to unpack (expected 4, got 1)"
     ]
    }
   ],
   "source": [
    "# Многомерная логистическая регрессия на данных о сотрудниках\n",
    "import pandas as pd\n",
    "from sklearn.linear_model import LogisticRegression\n",
    "\n",
    "employee_data = pd.read_csv(\"https://tinyurl.com/y6r7qjrp\")\n",
    "\n",
    "inputs = employee_data.iloc[:, :-1].to_numpy()\n",
    "\n",
    "output = employee_data.iloc[:, -1].to_numpy()\n",
    "\n",
    "fit = LogisticRegression(penalty=None).fit(inputs, output)\n",
    "\n",
    "print(f\"Угловые коэффициенты: {fit.coef_.flatten()}\")\n",
    "print(f\"Пересечение: {fit.intercept_.flatten()}\")\n",
    "\n",
    "# Функция для интерактивного прогнозирования об увольнении новых сотрудников\n",
    "def predict_employee_will_stay(sex, age, promotions, years_employed):\n",
    "    prediction = fit.predict([[sex, age, promotions, years_employed]])\n",
    "    probabilities = fit.predict_proba([[sex, age, promotions, years_employed]])\n",
    "    if prediction == [[1]]:\n",
    "        return f\"Увилится: {probabilities}\"\n",
    "    else:\n",
    "        return f\"Останется: {probabilities}\"\n",
    "    \n",
    "# Проверяем прогнозирование\n",
    "while True:\n",
    "    n = input(\"Прогнозируем, останется ли сотрудник или уйдет.\\n\" \\\n",
    "    \"Введите данные (целые неотрицательные числа) через запятую:\\n\" \\\n",
    "    \"пол, возраст, количество повышений, стаж работы (лет): \")\n",
    "    (sex, age, promotions, years_employed) = n.split(\",\")\n",
    "    print(predict_employee_will_stay(int(sex), int(age), int(promotions), int(years_employed)))"
   ]
  },
  {
   "cell_type": "markdown",
   "id": "59ffd8a9",
   "metadata": {},
   "source": []
  }
 ],
 "metadata": {
  "kernelspec": {
   "display_name": "Python 3",
   "language": "python",
   "name": "python3"
  },
  "language_info": {
   "codemirror_mode": {
    "name": "ipython",
    "version": 3
   },
   "file_extension": ".py",
   "mimetype": "text/x-python",
   "name": "python",
   "nbconvert_exporter": "python",
   "pygments_lexer": "ipython3",
   "version": "3.13.0"
  }
 },
 "nbformat": 4,
 "nbformat_minor": 5
}
